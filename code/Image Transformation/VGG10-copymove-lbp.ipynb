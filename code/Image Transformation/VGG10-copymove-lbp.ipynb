{
 "cells": [
  {
   "cell_type": "markdown",
   "metadata": {
    "id": "-yTIBbXP8rsu",
    "tags": []
   },
   "source": [
    "# Library and dataset import section: "
   ]
  },
  {
   "cell_type": "code",
   "execution_count": 1,
   "metadata": {},
   "outputs": [
    {
     "name": "stdout",
     "output_type": "stream",
     "text": [
      "100%|████████████████████████████████████████| 506M/506M [00:02<00:00, 190MiB/s]\n",
      "🍬  下载完成，正在解压...\n",
      "🏁  数据集已经成功添加\n"
     ]
    }
   ],
   "source": [
    "!featurize dataset download 3b2d6527-7a46-4237-84b5-605c9f9165fa"
   ]
  },
  {
   "cell_type": "code",
   "execution_count": 2,
   "metadata": {
    "executionInfo": {
     "elapsed": 7160,
     "status": "ok",
     "timestamp": 1649417888445,
     "user": {
      "displayName": "汪涵",
      "userId": "01721555802280632406"
     },
     "user_tz": -480
    },
    "id": "30iEf1PH8rOD"
   },
   "outputs": [],
   "source": [
    "from PIL import Image, ImageChops, ImageEnhance\n",
    "from torchvision import transforms\n",
    "import os\n",
    "import random\n",
    "from sklearn.utils import shuffle\n",
    "from sklearn.model_selection import train_test_split\n",
    "import torch.utils.data as data\n",
    "import torch.nn as nn\n",
    "import torch.optim as optim\n",
    "from tqdm.notebook import tqdm, trange\n",
    "import torch\n",
    "import time\n",
    "import torchvision.models as models"
   ]
  },
  {
   "cell_type": "code",
   "execution_count": 3,
   "metadata": {},
   "outputs": [],
   "source": [
    "from skimage.transform import rotate\n",
    "from skimage.feature import local_binary_pattern\n",
    "from skimage import data, io,data_dir,filters, feature\n",
    "from skimage.color import label2rgb\n",
    "import skimage\n",
    "import numpy as np\n",
    "import matplotlib.pyplot as plt\n",
    "from PIL import Image\n",
    "import cv2\n",
    "radius = 1 # LBP算法中范围半径的取值\n",
    "n_points = 8 * radius # 领域像素点数"
   ]
  },
  {
   "cell_type": "markdown",
   "metadata": {
    "id": "aPJW0KOU8eeB"
   },
   "source": [
    "# Image pre-process section:"
   ]
  },
  {
   "cell_type": "code",
   "execution_count": 4,
   "metadata": {
    "id": "gA3lPWxfmYOm"
   },
   "outputs": [],
   "source": [
    "# Convert an image to ela image\n",
    "# Input type: <class 'PIL.Image.Image'>\n",
    "# Output type: <class 'PIL.Image.Image'>\n",
    "image_size = (224, 224) \n",
    "def convert_to_lbp_image(path):\n",
    "    image = cv2.imread(path)\n",
    "    image.resize(image_size)\n",
    "    image1 = cv2.cvtColor(image, cv2.COLOR_BGR2RGB)\n",
    "    image1 = cv2.cvtColor(image1, cv2.COLOR_BGR2GRAY)\n",
    "    lbp = local_binary_pattern(image1, n_points, radius)\n",
    "    \n",
    "    return lbp"
   ]
  },
  {
   "cell_type": "code",
   "execution_count": 5,
   "metadata": {
    "id": "6K8q6pgSoAw1"
   },
   "outputs": [],
   "source": [
    "# Resize image to fixed size\n",
    "# Input type: <class 'PIL.Image.Image'>\n",
    "# Output type: <class 'PIL.Image.Image'>\n",
    "def prepare_image(image_path, image_size):\n",
    "    convert_tensor = transforms.ToTensor()\n",
    "    return convert_tensor(convert_to_lbp_image(image_path))"
   ]
  },
  {
   "cell_type": "markdown",
   "metadata": {
    "id": "bM3SXAzR_G9R"
   },
   "source": [
    "# Real image"
   ]
  },
  {
   "cell_type": "code",
   "execution_count": 6,
   "metadata": {
    "colab": {
     "base_uri": "https://localhost:8080/"
    },
    "executionInfo": {
     "elapsed": 133896,
     "status": "ok",
     "timestamp": 1648384148702,
     "user": {
      "displayName": "汪涵",
      "photoUrl": "https://lh3.googleusercontent.com/a/default-user=s64",
      "userId": "01721555802280632406"
     },
     "user_tz": -480
    },
    "id": "QidaxXUaoTyP",
    "outputId": "4fdff56b-b115-4be2-a373-a8740c9d18d5"
   },
   "outputs": [
    {
     "name": "stdout",
     "output_type": "stream",
     "text": [
      "960 960\n"
     ]
    }
   ],
   "source": [
    "# real images\n",
    "X = [] # ELA converted images\n",
    "Y = [] # label: 0 for fake, 1 for real\n",
    "\n",
    "\n",
    "path = 'data/CASIA2000/Au'\n",
    "for dirname, _, filenames in os.walk(path):\n",
    "    for filename in filenames:\n",
    "        full_path = os.path.join(dirname, filename)\n",
    "        X.append(prepare_image(full_path, image_size))\n",
    "        Y.append(1)\n",
    "\n",
    "print(len(X), len(Y))"
   ]
  },
  {
   "cell_type": "markdown",
   "metadata": {
    "id": "Vom2eBAH_J87"
   },
   "source": [
    "# Fake image"
   ]
  },
  {
   "cell_type": "code",
   "execution_count": 7,
   "metadata": {
    "colab": {
     "base_uri": "https://localhost:8080/"
    },
    "executionInfo": {
     "elapsed": 50045,
     "status": "ok",
     "timestamp": 1648384201969,
     "user": {
      "displayName": "汪涵",
      "photoUrl": "https://lh3.googleusercontent.com/a/default-user=s64",
      "userId": "01721555802280632406"
     },
     "user_tz": -480
    },
    "id": "CmY5ic_DpB6O",
    "outputId": "394fb0ab-9095-4fa6-c1cf-9216216a0c23"
   },
   "outputs": [
    {
     "name": "stdout",
     "output_type": "stream",
     "text": [
      "1920 1920\n"
     ]
    }
   ],
   "source": [
    "# fake images\n",
    "\n",
    "image_size = (224, 224) \n",
    "path = 'data/CASIA2000/Tp'\n",
    "for dirname, _, filenames in os.walk(path):\n",
    "    for filename in filenames:\n",
    "        full_path = os.path.join(dirname, filename)\n",
    "        X.append(prepare_image(full_path, image_size))\n",
    "        Y.append(0)\n",
    "\n",
    "print(len(X), len(Y))"
   ]
  },
  {
   "cell_type": "markdown",
   "metadata": {
    "id": "QIcDGmEaILyg"
   },
   "source": [
    "# Shuffle and split the data"
   ]
  },
  {
   "cell_type": "code",
   "execution_count": 8,
   "metadata": {
    "id": "MdFDEhU2pYow"
   },
   "outputs": [],
   "source": [
    "# Shuffle the data\n",
    "for i in range(10):\n",
    "    X, Y = shuffle(X, Y, random_state=i)"
   ]
  },
  {
   "cell_type": "code",
   "execution_count": 9,
   "metadata": {
    "colab": {
     "base_uri": "https://localhost:8080/"
    },
    "executionInfo": {
     "elapsed": 2,
     "status": "ok",
     "timestamp": 1648384207030,
     "user": {
      "displayName": "汪涵",
      "photoUrl": "https://lh3.googleusercontent.com/a/default-user=s64",
      "userId": "01721555802280632406"
     },
     "user_tz": -480
    },
    "id": "lZNOVjPnps2r",
    "outputId": "5529b0f3-723c-4d40-fb9d-d135f7cc930c"
   },
   "outputs": [
    {
     "name": "stdout",
     "output_type": "stream",
     "text": [
      "1382 1382\n",
      "384 384\n",
      "154 154\n"
     ]
    }
   ],
   "source": [
    "# train, test, validation dataset\n",
    "X_train, X_test, Y_train, Y_test = train_test_split(X, Y, test_size = 0.2, random_state=42)\n",
    "X_train, X_val, Y_train, Y_val = train_test_split(X_train, Y_train, test_size = 0.1, random_state=42)\n",
    "print(len(X_train), len(Y_train))\n",
    "print(len(X_test), len(Y_test))\n",
    "print(len(X_val), len(Y_val))"
   ]
  },
  {
   "cell_type": "markdown",
   "metadata": {
    "id": "etKm2j86qchk"
   },
   "source": [
    "# VGG model"
   ]
  },
  {
   "cell_type": "code",
   "execution_count": 10,
   "metadata": {
    "id": "AyADaQUpqMAr"
   },
   "outputs": [],
   "source": [
    "class VGG(nn.Module):\n",
    "    def __init__(self, features, output_dim):\n",
    "        super().__init__()\n",
    "\n",
    "        self.features = features\n",
    "        self.avgpool = nn.AdaptiveAvgPool2d(7)\n",
    "\n",
    "        self.classifier = nn.Sequential(\n",
    "            nn.Linear(256 * 7 * 7, 4096),\n",
    "            nn.LeakyReLU(inplace=True),\n",
    "            nn.Dropout(0.5), \n",
    "            nn.Linear(4096, 4096),\n",
    "            nn.LeakyReLU(inplace=True),\n",
    "            nn.Dropout(0.5),\n",
    "            nn.Linear(4096, output_dim),\n",
    "        )\n",
    "\n",
    "    def forward(self, x):\n",
    "        x = self.features(x)\n",
    "        x = self.avgpool(x)\n",
    "        h = x.view(x.shape[0], -1)\n",
    "        x = self.classifier(h)\n",
    "        return x, h"
   ]
  },
  {
   "cell_type": "code",
   "execution_count": 11,
   "metadata": {
    "id": "OTNyZtmEbULk"
   },
   "outputs": [],
   "source": [
    "def get_vgg_layers(config, batch_norm):\n",
    "    layers = []\n",
    "    conv2d = nn.Conv2d(1, 64, kernel_size=3, padding=1)\n",
    "    layers += [conv2d, nn.BatchNorm2d(64), nn.LeakyReLU(inplace=True)]\n",
    "    in_channels = 64\n",
    "    for c in config:\n",
    "        assert c == 'M' or isinstance(c, int)\n",
    "        if c == 'M':\n",
    "            layers += [nn.MaxPool2d(kernel_size=2)]\n",
    "        else:\n",
    "            conv2d = nn.Conv2d(in_channels, c, kernel_size=3, padding=1)\n",
    "            if batch_norm:\n",
    "                layers += [conv2d, nn.BatchNorm2d(c), nn.LeakyReLU(inplace=True)]\n",
    "            else:\n",
    "                layers += [conv2d, nn.LeakyReLU(inplace=True)]\n",
    "            in_channels = c\n",
    "\n",
    "    return nn.Sequential(*layers)"
   ]
  },
  {
   "cell_type": "code",
   "execution_count": 12,
   "metadata": {
    "id": "Sr4CI9XsqjT5"
   },
   "outputs": [],
   "source": [
    "# Binary classification: fake or real\n",
    "vgg16_config = [64, 'M', 128, 128, 'M', 256, 256, 256, 'M']\n",
    "vgg16_layers = get_vgg_layers(vgg16_config, batch_norm=True)\n",
    "\n",
    "OUTPUT_DIM = 2\n",
    "model = VGG(vgg16_layers, OUTPUT_DIM)"
   ]
  },
  {
   "cell_type": "code",
   "execution_count": 13,
   "metadata": {
    "id": "E8_JwGcabiLr"
   },
   "outputs": [
    {
     "name": "stderr",
     "output_type": "stream",
     "text": [
      "Downloading: \"https://download.pytorch.org/models/vgg16_bn-6c64b313.pth\" to /home/featurize/.cache/torch/hub/checkpoints/vgg16_bn-6c64b313.pth\n"
     ]
    },
    {
     "data": {
      "application/vnd.jupyter.widget-view+json": {
       "model_id": "613188b02a304520a8a4ce44083ece45",
       "version_major": 2,
       "version_minor": 0
      },
      "text/plain": [
       "  0%|          | 0.00/528M [00:00<?, ?B/s]"
      ]
     },
     "metadata": {},
     "output_type": "display_data"
    }
   ],
   "source": [
    "pretrained_model = models.vgg16_bn(pretrained=True)"
   ]
  },
  {
   "cell_type": "code",
   "execution_count": 14,
   "metadata": {
    "colab": {
     "base_uri": "https://localhost:8080/"
    },
    "executionInfo": {
     "elapsed": 270,
     "status": "ok",
     "timestamp": 1648384744906,
     "user": {
      "displayName": "汪涵",
      "photoUrl": "https://lh3.googleusercontent.com/a/default-user=s64",
      "userId": "01721555802280632406"
     },
     "user_tz": -480
    },
    "id": "M_lmFjoUqogu",
    "outputId": "13797012-1fc0-4cd6-a73e-a0071a403d79"
   },
   "outputs": [
    {
     "name": "stdout",
     "output_type": "stream",
     "text": [
      "None\n",
      "Sequential(\n",
      "  (0): Conv2d(1, 64, kernel_size=(3, 3), stride=(1, 1), padding=(1, 1))\n",
      "  (1): BatchNorm2d(64, eps=1e-05, momentum=0.1, affine=True, track_running_stats=True)\n",
      "  (2): ReLU(inplace=True)\n",
      "  (3): Conv2d(64, 64, kernel_size=(3, 3), stride=(1, 1), padding=(1, 1))\n",
      "  (4): BatchNorm2d(64, eps=1e-05, momentum=0.1, affine=True, track_running_stats=True)\n",
      "  (5): ReLU(inplace=True)\n",
      "  (6): MaxPool2d(kernel_size=2, stride=2, padding=0, dilation=1, ceil_mode=False)\n",
      "  (7): Conv2d(64, 128, kernel_size=(3, 3), stride=(1, 1), padding=(1, 1))\n",
      "  (8): BatchNorm2d(128, eps=1e-05, momentum=0.1, affine=True, track_running_stats=True)\n",
      "  (9): ReLU(inplace=True)\n",
      "  (10): Conv2d(128, 128, kernel_size=(3, 3), stride=(1, 1), padding=(1, 1))\n",
      "  (11): BatchNorm2d(128, eps=1e-05, momentum=0.1, affine=True, track_running_stats=True)\n",
      "  (12): ReLU(inplace=True)\n",
      "  (13): MaxPool2d(kernel_size=2, stride=2, padding=0, dilation=1, ceil_mode=False)\n",
      "  (14): Conv2d(128, 256, kernel_size=(3, 3), stride=(1, 1), padding=(1, 1))\n",
      "  (15): BatchNorm2d(256, eps=1e-05, momentum=0.1, affine=True, track_running_stats=True)\n",
      "  (16): ReLU(inplace=True)\n",
      "  (17): Conv2d(256, 256, kernel_size=(3, 3), stride=(1, 1), padding=(1, 1))\n",
      "  (18): BatchNorm2d(256, eps=1e-05, momentum=0.1, affine=True, track_running_stats=True)\n",
      "  (19): ReLU(inplace=True)\n",
      "  (20): Conv2d(256, 256, kernel_size=(3, 3), stride=(1, 1), padding=(1, 1))\n",
      "  (21): BatchNorm2d(256, eps=1e-05, momentum=0.1, affine=True, track_running_stats=True)\n",
      "  (22): ReLU(inplace=True)\n",
      "  (23): MaxPool2d(kernel_size=2, stride=2, padding=0, dilation=1, ceil_mode=False)\n",
      ")\n"
     ]
    }
   ],
   "source": [
    "IN_FEATURES = pretrained_model.classifier[-1].in_features\n",
    "\n",
    "final_fc = nn.Linear(IN_FEATURES, OUTPUT_DIM)\n",
    "\n",
    "pretrained_model.features[0] = nn.Conv2d(1, 64, kernel_size=3, padding=1)\n",
    "# pretrained_model.features[1] = nn.BatchNorm2d(1)\n",
    "\n",
    "pretrained_model.classifier[-1] = final_fc\n",
    "\n",
    "pretrained_model.features = pretrained_model.features[:24]\n",
    "pretrained_model.classifier = None\n",
    "\n",
    "print(pretrained_model.classifier)\n",
    "print(pretrained_model.features)\n"
   ]
  },
  {
   "cell_type": "code",
   "execution_count": 15,
   "metadata": {},
   "outputs": [
    {
     "name": "stdout",
     "output_type": "stream",
     "text": [
      "Sequential(\n",
      "  (0): Conv2d(1, 64, kernel_size=(3, 3), stride=(1, 1), padding=(1, 1))\n",
      "  (1): BatchNorm2d(64, eps=1e-05, momentum=0.1, affine=True, track_running_stats=True)\n",
      "  (2): LeakyReLU(negative_slope=0.01, inplace=True)\n",
      "  (3): Conv2d(64, 64, kernel_size=(3, 3), stride=(1, 1), padding=(1, 1))\n",
      "  (4): BatchNorm2d(64, eps=1e-05, momentum=0.1, affine=True, track_running_stats=True)\n",
      "  (5): LeakyReLU(negative_slope=0.01, inplace=True)\n",
      "  (6): MaxPool2d(kernel_size=2, stride=2, padding=0, dilation=1, ceil_mode=False)\n",
      "  (7): Conv2d(64, 128, kernel_size=(3, 3), stride=(1, 1), padding=(1, 1))\n",
      "  (8): BatchNorm2d(128, eps=1e-05, momentum=0.1, affine=True, track_running_stats=True)\n",
      "  (9): LeakyReLU(negative_slope=0.01, inplace=True)\n",
      "  (10): Conv2d(128, 128, kernel_size=(3, 3), stride=(1, 1), padding=(1, 1))\n",
      "  (11): BatchNorm2d(128, eps=1e-05, momentum=0.1, affine=True, track_running_stats=True)\n",
      "  (12): LeakyReLU(negative_slope=0.01, inplace=True)\n",
      "  (13): MaxPool2d(kernel_size=2, stride=2, padding=0, dilation=1, ceil_mode=False)\n",
      "  (14): Conv2d(128, 256, kernel_size=(3, 3), stride=(1, 1), padding=(1, 1))\n",
      "  (15): BatchNorm2d(256, eps=1e-05, momentum=0.1, affine=True, track_running_stats=True)\n",
      "  (16): LeakyReLU(negative_slope=0.01, inplace=True)\n",
      "  (17): Conv2d(256, 256, kernel_size=(3, 3), stride=(1, 1), padding=(1, 1))\n",
      "  (18): BatchNorm2d(256, eps=1e-05, momentum=0.1, affine=True, track_running_stats=True)\n",
      "  (19): LeakyReLU(negative_slope=0.01, inplace=True)\n",
      "  (20): Conv2d(256, 256, kernel_size=(3, 3), stride=(1, 1), padding=(1, 1))\n",
      "  (21): BatchNorm2d(256, eps=1e-05, momentum=0.1, affine=True, track_running_stats=True)\n",
      "  (22): LeakyReLU(negative_slope=0.01, inplace=True)\n",
      "  (23): MaxPool2d(kernel_size=2, stride=2, padding=0, dilation=1, ceil_mode=False)\n",
      ")\n"
     ]
    }
   ],
   "source": [
    "print(vgg16_layers)"
   ]
  },
  {
   "cell_type": "code",
   "execution_count": 16,
   "metadata": {
    "colab": {
     "base_uri": "https://localhost:8080/"
    },
    "executionInfo": {
     "elapsed": 303,
     "status": "ok",
     "timestamp": 1648384883925,
     "user": {
      "displayName": "汪涵",
      "photoUrl": "https://lh3.googleusercontent.com/a/default-user=s64",
      "userId": "01721555802280632406"
     },
     "user_tz": -480
    },
    "id": "v5iBpBozqwtb",
    "outputId": "145015cd-8701-41b8-bcc3-a5ba3d72552d"
   },
   "outputs": [
    {
     "data": {
      "text/plain": [
       "_IncompatibleKeys(missing_keys=['classifier.0.weight', 'classifier.0.bias', 'classifier.3.weight', 'classifier.3.bias', 'classifier.6.weight', 'classifier.6.bias'], unexpected_keys=[])"
      ]
     },
     "execution_count": 16,
     "metadata": {},
     "output_type": "execute_result"
    }
   ],
   "source": [
    "model.load_state_dict(pretrained_model.state_dict(), strict = False)"
   ]
  },
  {
   "cell_type": "code",
   "execution_count": 17,
   "metadata": {
    "id": "nXdaKxbkrFUK"
   },
   "outputs": [],
   "source": [
    "# Learning rate\n",
    "LR = 1e-3\n",
    "params = [\n",
    "          {'params': model.features.parameters(), 'lr': LR / 10},\n",
    "          {'params': model.classifier.parameters()}\n",
    "         ]\n",
    "optimizer = optim.Adam(params, lr=LR, weight_decay = 0.001, amsgrad = True)\n",
    "\n",
    "device = torch.device('cuda' if torch.cuda.is_available() else 'cpu')\n",
    "model = model.to(device)\n",
    "criterion = nn.CrossEntropyLoss()\n",
    "criterion = criterion.to(device)"
   ]
  },
  {
   "cell_type": "code",
   "execution_count": 18,
   "metadata": {
    "id": "T_eUOVUjrG32"
   },
   "outputs": [],
   "source": [
    "def calculate_accuracy(y_pred, y):\n",
    "    top_pred = y_pred.argmax(1, keepdim=True)\n",
    "    correct = top_pred.eq(y.view_as(top_pred)).sum()\n",
    "    acc = correct.float() / y.shape[0]\n",
    "    return acc"
   ]
  },
  {
   "cell_type": "markdown",
   "metadata": {
    "id": "sKuN1pSjHzRa"
   },
   "source": [
    "# Training stage"
   ]
  },
  {
   "cell_type": "code",
   "execution_count": 19,
   "metadata": {
    "id": "a2ab3Xykq71D"
   },
   "outputs": [],
   "source": [
    "# Trains the model using backpropagation\n",
    "# Input: torch.nn.Module, data.Dataloader, torch.optim.Optimizer, torch.nn.Module, torch.device\n",
    "# Output: float, float\n",
    "\n",
    "def train(model, optimizer, criterion, device):\n",
    "    epoch_loss = 0\n",
    "    epoch_acc = 0\n",
    "    model.train()\n",
    "    x = X_train[0]\n",
    "    y = torch.tensor(Y_train[0])\n",
    "    count = 1\n",
    "    for i in range(1, len(X_train)):\n",
    "        x = torch.dstack((x, X_train[i]))\n",
    "        y = torch.dstack((y, torch.tensor(Y_train[i])))\n",
    "        count += 1\n",
    "        if count % 64 == 0:\n",
    "            x = x.reshape(-1,1,224,224)\n",
    "            y = y.reshape(64,)\n",
    "            x = x.to(device, dtype=torch.float)\n",
    "            y = y.to(device)\n",
    "            \n",
    "            \n",
    "            optimizer.zero_grad()\n",
    "            y_pred, _ = model(x)\n",
    "\n",
    "            loss = criterion(y_pred, y)\n",
    "            acc = calculate_accuracy(y_pred, y)\n",
    "\n",
    "            loss.backward()\n",
    "            optimizer.step()\n",
    "\n",
    "            epoch_loss += loss.item()\n",
    "            epoch_acc += acc.item()\n",
    "            \n",
    "            x = X_train[i]\n",
    "            y = torch.tensor(Y_train[i])\n",
    "            count = 1\n",
    "    \n",
    "    return epoch_loss / (len(X_train)/64), epoch_acc / (len(X_train)/64)"
   ]
  },
  {
   "cell_type": "code",
   "execution_count": 20,
   "metadata": {
    "id": "R3KXZ-rSvugV"
   },
   "outputs": [],
   "source": [
    "# Calculates time elapsed for the whole training\n",
    "# Input: float, float\n",
    "# Output: int, int\n",
    "def epoch_time(start_time, end_time):\n",
    "    elapsed_time = end_time - start_time\n",
    "    elapsed_mins = elapsed_time // 60\n",
    "    elapsed_secs = int(elapsed_time % 60)\n",
    "    return elapsed_mins, elapsed_secs"
   ]
  },
  {
   "cell_type": "code",
   "execution_count": 21,
   "metadata": {
    "id": "MiUEQSHyqmAO"
   },
   "outputs": [],
   "source": [
    "# Calculates the loss and accuracy of the model with the given criterion\n",
    "# Input: torch.nn.Module, data.Dataloader, torch.nn.Module, torch.device\n",
    "# Output: float, float\n",
    "def evaluate(model, X, Y, criterion, device):\n",
    "    epoch_loss = 0\n",
    "    epoch_acc = 0\n",
    "    model.eval()\n",
    "    x = X[0]\n",
    "    y = torch.tensor(Y[0])\n",
    "    count = 1\n",
    "    with torch.no_grad():\n",
    "        for i in range(1, len(X)):\n",
    "            x = torch.dstack((x, X[i]))\n",
    "            y = torch.dstack((y, torch.tensor(Y[i])))\n",
    "            count += 1\n",
    "            if count % 64 == 0:\n",
    "                x = x.reshape(-1,1,224,224)\n",
    "                y = y.reshape(64,)\n",
    "                x = x.to(device, dtype=torch.float)\n",
    "                y = y.to(device)\n",
    "\n",
    "\n",
    "                y_pred, _ = model(x)\n",
    "\n",
    "                loss = criterion(y_pred, y)\n",
    "                acc = calculate_accuracy(y_pred, y)\n",
    "\n",
    "                epoch_loss += loss.item()\n",
    "                epoch_acc += acc.item()\n",
    "\n",
    "                x = X[i]\n",
    "                y = torch.tensor(Y[i])\n",
    "                count = 1\n",
    "    \n",
    "\n",
    "    return epoch_loss / (len(X)/64), epoch_acc / (len(X)/64)"
   ]
  },
  {
   "cell_type": "code",
   "execution_count": 22,
   "metadata": {
    "colab": {
     "base_uri": "https://localhost:8080/",
     "height": 69,
     "referenced_widgets": [
      "fd5d110b788f4fd3b42784d2deb92b08",
      "b13047c024524a0888446c2dd4f38d89",
      "562721c9f7414b35bb4866ee3b9a4072",
      "65110cd603d041609940cf699e0e1c6b",
      "636516e1e02243a996d8117bc064cf98",
      "622f6ca31ebe46f9b27baabdb0a56095",
      "5c6799d454d84e1a89d9df71c5e7d820",
      "63bef304fbb44e89be11b0d1b9948514",
      "4280ed567b7e42999b90a2453970c7f4",
      "133516434c6345e5a8e27586364293c3",
      "5ea74dfaee0b42ee9e2b4928adaae9be",
      "32bd451520b441dc9e1bd448ccb6a9a5",
      "eab0d261582541709ecfa030bcc67913",
      "2a96d951d7af49cabe0d55a141aa48c0",
      "c895f88291f842c58f073d44ec7620aa",
      "7495f9237a0946cbbc81d7f3db4f8d10",
      "4a50e56e867b49518e85c2eebff9542c",
      "dc41ed936af0402f86cd5a62d5e72718",
      "b4663cda63ee40c590651f1bdfba2e28",
      "e52f2fddc1f54a2cbf6900743cf39338",
      "243e3146a0ae4560b69571c0fa13d168",
      "68fcf1f5f1ae4ec1adc22b5310091ab4"
     ]
    },
    "executionInfo": {
     "elapsed": 214848,
     "status": "ok",
     "timestamp": 1648385115629,
     "user": {
      "displayName": "汪涵",
      "photoUrl": "https://lh3.googleusercontent.com/a/default-user=s64",
      "userId": "01721555802280632406"
     },
     "user_tz": -480
    },
    "id": "u6qjyQB4vI0_",
    "outputId": "c56d3e28-2edc-4b70-d0a9-f4e70f4f0275"
   },
   "outputs": [
    {
     "name": "stdout",
     "output_type": "stream",
     "text": [
      "Epoch: 01\n",
      "\tTrain Loss: 2.088 | Train Acc: 47.83%\n",
      "\tVal. Loss: 0.574 |  Val. Acc: 45.45%\n",
      "Epoch: 02\n",
      "\tTrain Loss: 0.675 | Train Acc: 48.77%\n",
      "\tVal. Loss: 0.575 |  Val. Acc: 45.45%\n",
      "Epoch: 03\n",
      "\tTrain Loss: 0.675 | Train Acc: 48.70%\n",
      "\tVal. Loss: 0.581 |  Val. Acc: 37.66%\n",
      "Epoch: 04\n",
      "\tTrain Loss: 0.677 | Train Acc: 48.99%\n",
      "\tVal. Loss: 0.582 |  Val. Acc: 37.66%\n",
      "Epoch: 05\n",
      "\tTrain Loss: 0.677 | Train Acc: 48.99%\n",
      "\tVal. Loss: 0.583 |  Val. Acc: 37.66%\n",
      "Epoch: 06\n",
      "\tTrain Loss: 0.676 | Train Acc: 50.58%\n",
      "\tVal. Loss: 0.579 |  Val. Acc: 37.66%\n",
      "Epoch: 07\n",
      "\tTrain Loss: 0.676 | Train Acc: 49.78%\n",
      "\tVal. Loss: 0.572 |  Val. Acc: 45.45%\n",
      "Epoch: 08\n",
      "\tTrain Loss: 0.679 | Train Acc: 48.99%\n",
      "\tVal. Loss: 0.584 |  Val. Acc: 37.66%\n",
      "Epoch: 09\n",
      "\tTrain Loss: 0.676 | Train Acc: 50.94%\n",
      "\tVal. Loss: 0.580 |  Val. Acc: 37.66%\n",
      "Epoch: 10\n",
      "\tTrain Loss: 0.676 | Train Acc: 50.87%\n",
      "\tVal. Loss: 0.577 |  Val. Acc: 37.66%\n",
      "Epoch: 11\n",
      "\tTrain Loss: 0.676 | Train Acc: 49.78%\n",
      "\tVal. Loss: 0.582 |  Val. Acc: 37.66%\n",
      "Epoch: 12\n",
      "\tTrain Loss: 0.674 | Train Acc: 49.78%\n",
      "\tVal. Loss: 0.580 |  Val. Acc: 37.66%\n",
      "Epoch: 13\n",
      "\tTrain Loss: 0.676 | Train Acc: 48.99%\n",
      "\tVal. Loss: 0.574 |  Val. Acc: 45.45%\n",
      "Epoch: 14\n",
      "\tTrain Loss: 0.674 | Train Acc: 49.93%\n",
      "\tVal. Loss: 0.575 |  Val. Acc: 45.45%\n",
      "Epoch: 15\n",
      "\tTrain Loss: 0.675 | Train Acc: 49.06%\n",
      "\tVal. Loss: 0.575 |  Val. Acc: 45.45%\n",
      "Epoch: 16\n",
      "\tTrain Loss: 0.675 | Train Acc: 50.58%\n",
      "\tVal. Loss: 0.577 |  Val. Acc: 37.66%\n",
      "Epoch: 17\n",
      "\tTrain Loss: 0.675 | Train Acc: 50.00%\n",
      "\tVal. Loss: 0.575 |  Val. Acc: 45.45%\n",
      "Epoch: 18\n",
      "\tTrain Loss: 0.674 | Train Acc: 50.00%\n",
      "\tVal. Loss: 0.575 |  Val. Acc: 45.45%\n",
      "Epoch: 19\n",
      "\tTrain Loss: 0.675 | Train Acc: 48.55%\n",
      "\tVal. Loss: 0.576 |  Val. Acc: 37.66%\n",
      "Epoch: 20\n",
      "\tTrain Loss: 0.675 | Train Acc: 47.90%\n",
      "\tVal. Loss: 0.579 |  Val. Acc: 37.66%\n",
      "Epoch: 21\n",
      "\tTrain Loss: 0.675 | Train Acc: 47.76%\n",
      "\tVal. Loss: 0.575 |  Val. Acc: 45.45%\n",
      "Epoch: 22\n",
      "\tTrain Loss: 0.674 | Train Acc: 49.06%\n",
      "\tVal. Loss: 0.578 |  Val. Acc: 37.66%\n",
      "Epoch: 23\n",
      "\tTrain Loss: 0.675 | Train Acc: 49.64%\n",
      "\tVal. Loss: 0.577 |  Val. Acc: 37.66%\n",
      "Epoch: 24\n",
      "\tTrain Loss: 0.675 | Train Acc: 49.78%\n",
      "\tVal. Loss: 0.579 |  Val. Acc: 37.66%\n",
      "Epoch: 25\n",
      "\tTrain Loss: 0.677 | Train Acc: 48.99%\n",
      "\tVal. Loss: 0.591 |  Val. Acc: 37.66%\n",
      "Epoch: 26\n",
      "\tTrain Loss: 0.676 | Train Acc: 48.63%\n",
      "\tVal. Loss: 0.582 |  Val. Acc: 37.66%\n",
      "Epoch: 27\n",
      "\tTrain Loss: 0.676 | Train Acc: 47.97%\n",
      "\tVal. Loss: 0.580 |  Val. Acc: 37.66%\n",
      "Epoch: 28\n",
      "\tTrain Loss: 0.676 | Train Acc: 48.41%\n",
      "\tVal. Loss: 0.576 |  Val. Acc: 45.45%\n",
      "Epoch: 29\n",
      "\tTrain Loss: 0.674 | Train Acc: 48.91%\n",
      "\tVal. Loss: 0.574 |  Val. Acc: 45.45%\n",
      "Epoch: 30\n",
      "\tTrain Loss: 0.675 | Train Acc: 49.42%\n",
      "\tVal. Loss: 0.576 |  Val. Acc: 37.66%\n"
     ]
    }
   ],
   "source": [
    "EPOCHS = 30\n",
    "best_valid_loss = float(10000)\n",
    "best_epoch = -1\n",
    "start_time = time.monotonic()\n",
    "end_time = -1\n",
    "\n",
    "Train_loss = []\n",
    "Val_loss = []\n",
    "for epoch in range(EPOCHS):\n",
    "\n",
    "    train_loss, train_acc = train(model, optimizer, criterion, device)\n",
    "    valid_loss, valid_acc = evaluate(model,X_val, Y_val,criterion, device)\n",
    "\n",
    "\n",
    "    # early stopping\n",
    "    if valid_loss < best_valid_loss:\n",
    "        torch.save(model.state_dict(), 'vgg16-3layers-lbp.pt')\n",
    "        end_time = time.monotonic()\n",
    "        best_epoch = epoch\n",
    "        best_valid_loss = valid_loss\n",
    "\n",
    "    Train_loss.append(train_loss)\n",
    "    Val_loss.append(valid_loss)\n",
    "    print(f'Epoch: {epoch+1:02}')\n",
    "    print(f'\\tTrain Loss: {train_loss:.3f} | Train Acc: {train_acc*100:.2f}%')\n",
    "    print(f'\\tVal. Loss: {valid_loss:.3f} |  Val. Acc: {valid_acc*100:.2f}%')\n",
    "\n",
    "if(end_time < 0):\n",
    "  end_time = time.monotonic()\n",
    "  best_epoch = EPOCHS\n",
    "epoch_mins, epoch_secs = epoch_time(start_time, end_time)"
   ]
  },
  {
   "cell_type": "code",
   "execution_count": 23,
   "metadata": {},
   "outputs": [
    {
     "data": {
      "image/png": "[encoded data removed]",
      "text/plain": [
       "<Figure size 432x288 with 1 Axes>"
      ]
     },
     "metadata": {
      "needs_background": "light"
     },
     "output_type": "display_data"
    },
    {
     "name": "stdout",
     "output_type": "stream",
     "text": [
      "Lowest loss happens in epoch 7\n",
      "Total Time Spent: 0.0m 45s\n",
      "Test Loss: 0.711 | Test Acc: 43.49%\n"
     ]
    }
   ],
   "source": [
    "# LR = 1e-3\n",
    "import matplotlib.pyplot as plt\n",
    "  \n",
    "plt.plot(range(1, EPOCHS + 1), Train_loss, label = \"Traing\")\n",
    "plt.plot(range(1, EPOCHS + 1), Val_loss, label = \"Valid\")\n",
    "plt.title('Traing and valind loss over epochs')\n",
    "plt.ylabel('Loss')\n",
    "plt.xlabel('Epochs')\n",
    "plt.legend()\n",
    "plt.show()\n",
    "\n",
    "# Evaluation\n",
    "model.load_state_dict(torch.load('vgg16-3layers-lbp.pt'))\n",
    "test_loss, test_acc = evaluate(model, X_test, Y_test, criterion, device)\n",
    "\n",
    "print(\"Lowest loss happens in epoch \" + str(best_epoch + 1))\n",
    "print(f'Total Time Spent: {epoch_mins}m {epoch_secs}s')\n",
    "print(f'Test Loss: {test_loss:.3f} | Test Acc: {test_acc*100:.2f}%')"
   ]
  },
  {
   "cell_type": "code",
   "execution_count": null,
   "metadata": {},
   "outputs": [],
   "source": []
  }
 ],
 "metadata": {
  "accelerator": "GPU",
  "colab": {
   "collapsed_sections": [],
   "name": "Vgg16.ipynb",
   "provenance": []
  },
  "kernelspec": {
   "display_name": "Python 3 (ipykernel)",
   "language": "python",
   "name": "python3"
  },
  "language_info": {
   "codemirror_mode": {
    "name": "ipython",
    "version": 3
   },
   "file_extension": ".py",
   "mimetype": "text/x-python",
   "name": "python",
   "nbconvert_exporter": "python",
   "pygments_lexer": "ipython3",
   "version": "3.7.10"
  },
  "widgets": {
   "application/vnd.jupyter.widget-state+json": {
    "0416109518094b57b48695a56e386057": {
     "model_module": "@jupyter-widgets/base",
     "model_module_version": "1.2.0",
     "model_name": "LayoutModel",
     "state": {
      "_model_module": "@jupyter-widgets/base",
      "_model_module_version": "1.2.0",
      "_model_name": "LayoutModel",
      "_view_count": null,
      "_view_module": "@jupyter-widgets/base",
      "_view_module_version": "1.2.0",
      "_view_name": "LayoutView",
      "align_content": null,
      "align_items": null,
      "align_self": null,
      "border": null,
      "bottom": null,
      "display": null,
      "flex": null,
      "flex_flow": null,
      "grid_area": null,
      "grid_auto_columns": null,
      "grid_auto_flow": null,
      "grid_auto_rows": null,
      "grid_column": null,
      "grid_gap": null,
      "grid_row": null,
      "grid_template_areas": null,
      "grid_template_columns": null,
      "grid_template_rows": null,
      "height": null,
      "justify_content": null,
      "justify_items": null,
      "left": null,
      "margin": null,
      "max_height": null,
      "max_width": null,
      "min_height": null,
      "min_width": null,
      "object_fit": null,
      "object_position": null,
      "order": null,
      "overflow": null,
      "overflow_x": null,
      "overflow_y": null,
      "padding": null,
      "right": null,
      "top": null,
      "visibility": null,
      "width": null
     }
    },
    "1160b799098f4724b3fa6a61225c463f": {
     "model_module": "@jupyter-widgets/controls",
     "model_module_version": "1.5.0",
     "model_name": "FloatProgressModel",
     "state": {
      "_dom_classes": [],
      "_model_module": "@jupyter-widgets/controls",
      "_model_module_version": "1.5.0",
      "_model_name": "FloatProgressModel",
      "_view_count": null,
      "_view_module": "@jupyter-widgets/controls",
      "_view_module_version": "1.5.0",
      "_view_name": "ProgressView",
      "bar_style": "",
      "description": "",
      "description_tooltip": null,
      "layout": "IPY_MODEL_953fa7a4edcb4d969ea874a495a2a43d",
      "max": 60,
      "min": 0,
      "orientation": "horizontal",
      "style": "IPY_MODEL_bbda3fa96a054eecb6186392a6d9e0dc",
      "value": 60
     }
    },
    "133516434c6345e5a8e27586364293c3": {
     "model_module": "@jupyter-widgets/base",
     "model_module_version": "1.2.0",
     "model_name": "LayoutModel",
     "state": {
      "_model_module": "@jupyter-widgets/base",
      "_model_module_version": "1.2.0",
      "_model_name": "LayoutModel",
      "_view_count": null,
      "_view_module": "@jupyter-widgets/base",
      "_view_module_version": "1.2.0",
      "_view_name": "LayoutView",
      "align_content": null,
      "align_items": null,
      "align_self": null,
      "border": null,
      "bottom": null,
      "display": null,
      "flex": null,
      "flex_flow": null,
      "grid_area": null,
      "grid_auto_columns": null,
      "grid_auto_flow": null,
      "grid_auto_rows": null,
      "grid_column": null,
      "grid_gap": null,
      "grid_row": null,
      "grid_template_areas": null,
      "grid_template_columns": null,
      "grid_template_rows": null,
      "height": null,
      "justify_content": null,
      "justify_items": null,
      "left": null,
      "margin": null,
      "max_height": null,
      "max_width": null,
      "min_height": null,
      "min_width": null,
      "object_fit": null,
      "object_position": null,
      "order": null,
      "overflow": null,
      "overflow_x": null,
      "overflow_y": null,
      "padding": null,
      "right": null,
      "top": null,
      "visibility": null,
      "width": null
     }
    },
    "243e3146a0ae4560b69571c0fa13d168": {
     "model_module": "@jupyter-widgets/base",
     "model_module_version": "1.2.0",
     "model_name": "LayoutModel",
     "state": {
      "_model_module": "@jupyter-widgets/base",
      "_model_module_version": "1.2.0",
      "_model_name": "LayoutModel",
      "_view_count": null,
      "_view_module": "@jupyter-widgets/base",
      "_view_module_version": "1.2.0",
      "_view_name": "LayoutView",
      "align_content": null,
      "align_items": null,
      "align_self": null,
      "border": null,
      "bottom": null,
      "display": null,
      "flex": null,
      "flex_flow": null,
      "grid_area": null,
      "grid_auto_columns": null,
      "grid_auto_flow": null,
      "grid_auto_rows": null,
      "grid_column": null,
      "grid_gap": null,
      "grid_row": null,
      "grid_template_areas": null,
      "grid_template_columns": null,
      "grid_template_rows": null,
      "height": null,
      "justify_content": null,
      "justify_items": null,
      "left": null,
      "margin": null,
      "max_height": null,
      "max_width": null,
      "min_height": null,
      "min_width": null,
      "object_fit": null,
      "object_position": null,
      "order": null,
      "overflow": null,
      "overflow_x": null,
      "overflow_y": null,
      "padding": null,
      "right": null,
      "top": null,
      "visibility": null,
      "width": null
     }
    },
    "2a96d951d7af49cabe0d55a141aa48c0": {
     "model_module": "@jupyter-widgets/controls",
     "model_module_version": "1.5.0",
     "model_name": "FloatProgressModel",
     "state": {
      "_dom_classes": [],
      "_model_module": "@jupyter-widgets/controls",
      "_model_module_version": "1.5.0",
      "_model_name": "FloatProgressModel",
      "_view_count": null,
      "_view_module": "@jupyter-widgets/controls",
      "_view_module_version": "1.5.0",
      "_view_name": "ProgressView",
      "bar_style": "",
      "description": "",
      "description_tooltip": null,
      "layout": "IPY_MODEL_b4663cda63ee40c590651f1bdfba2e28",
      "max": 24,
      "min": 0,
      "orientation": "horizontal",
      "style": "IPY_MODEL_e52f2fddc1f54a2cbf6900743cf39338",
      "value": 24
     }
    },
    "32bd451520b441dc9e1bd448ccb6a9a5": {
     "model_module": "@jupyter-widgets/controls",
     "model_module_version": "1.5.0",
     "model_name": "HBoxModel",
     "state": {
      "_dom_classes": [],
      "_model_module": "@jupyter-widgets/controls",
      "_model_module_version": "1.5.0",
      "_model_name": "HBoxModel",
      "_view_count": null,
      "_view_module": "@jupyter-widgets/controls",
      "_view_module_version": "1.5.0",
      "_view_name": "HBoxView",
      "box_style": "",
      "children": [
       "IPY_MODEL_eab0d261582541709ecfa030bcc67913",
       "IPY_MODEL_2a96d951d7af49cabe0d55a141aa48c0",
       "IPY_MODEL_c895f88291f842c58f073d44ec7620aa"
      ],
      "layout": "IPY_MODEL_7495f9237a0946cbbc81d7f3db4f8d10"
     }
    },
    "4280ed567b7e42999b90a2453970c7f4": {
     "model_module": "@jupyter-widgets/controls",
     "model_module_version": "1.5.0",
     "model_name": "ProgressStyleModel",
     "state": {
      "_model_module": "@jupyter-widgets/controls",
      "_model_module_version": "1.5.0",
      "_model_name": "ProgressStyleModel",
      "_view_count": null,
      "_view_module": "@jupyter-widgets/base",
      "_view_module_version": "1.2.0",
      "_view_name": "StyleView",
      "bar_color": null,
      "description_width": ""
     }
    },
    "451455e685504265ae2f2ce1615db865": {
     "model_module": "@jupyter-widgets/base",
     "model_module_version": "1.2.0",
     "model_name": "LayoutModel",
     "state": {
      "_model_module": "@jupyter-widgets/base",
      "_model_module_version": "1.2.0",
      "_model_name": "LayoutModel",
      "_view_count": null,
      "_view_module": "@jupyter-widgets/base",
      "_view_module_version": "1.2.0",
      "_view_name": "LayoutView",
      "align_content": null,
      "align_items": null,
      "align_self": null,
      "border": null,
      "bottom": null,
      "display": null,
      "flex": null,
      "flex_flow": null,
      "grid_area": null,
      "grid_auto_columns": null,
      "grid_auto_flow": null,
      "grid_auto_rows": null,
      "grid_column": null,
      "grid_gap": null,
      "grid_row": null,
      "grid_template_areas": null,
      "grid_template_columns": null,
      "grid_template_rows": null,
      "height": null,
      "justify_content": null,
      "justify_items": null,
      "left": null,
      "margin": null,
      "max_height": null,
      "max_width": null,
      "min_height": null,
      "min_width": null,
      "object_fit": null,
      "object_position": null,
      "order": null,
      "overflow": null,
      "overflow_x": null,
      "overflow_y": null,
      "padding": null,
      "right": null,
      "top": null,
      "visibility": null,
      "width": null
     }
    },
    "45f2b2c069164cddbd81358be84b500b": {
     "model_module": "@jupyter-widgets/base",
     "model_module_version": "1.2.0",
     "model_name": "LayoutModel",
     "state": {
      "_model_module": "@jupyter-widgets/base",
      "_model_module_version": "1.2.0",
      "_model_name": "LayoutModel",
      "_view_count": null,
      "_view_module": "@jupyter-widgets/base",
      "_view_module_version": "1.2.0",
      "_view_name": "LayoutView",
      "align_content": null,
      "align_items": null,
      "align_self": null,
      "border": null,
      "bottom": null,
      "display": null,
      "flex": null,
      "flex_flow": null,
      "grid_area": null,
      "grid_auto_columns": null,
      "grid_auto_flow": null,
      "grid_auto_rows": null,
      "grid_column": null,
      "grid_gap": null,
      "grid_row": null,
      "grid_template_areas": null,
      "grid_template_columns": null,
      "grid_template_rows": null,
      "height": null,
      "justify_content": null,
      "justify_items": null,
      "left": null,
      "margin": null,
      "max_height": null,
      "max_width": null,
      "min_height": null,
      "min_width": null,
      "object_fit": null,
      "object_position": null,
      "order": null,
      "overflow": null,
      "overflow_x": null,
      "overflow_y": null,
      "padding": null,
      "right": null,
      "top": null,
      "visibility": null,
      "width": null
     }
    },
    "4a50e56e867b49518e85c2eebff9542c": {
     "model_module": "@jupyter-widgets/base",
     "model_module_version": "1.2.0",
     "model_name": "LayoutModel",
     "state": {
      "_model_module": "@jupyter-widgets/base",
      "_model_module_version": "1.2.0",
      "_model_name": "LayoutModel",
      "_view_count": null,
      "_view_module": "@jupyter-widgets/base",
      "_view_module_version": "1.2.0",
      "_view_name": "LayoutView",
      "align_content": null,
      "align_items": null,
      "align_self": null,
      "border": null,
      "bottom": null,
      "display": null,
      "flex": null,
      "flex_flow": null,
      "grid_area": null,
      "grid_auto_columns": null,
      "grid_auto_flow": null,
      "grid_auto_rows": null,
      "grid_column": null,
      "grid_gap": null,
      "grid_row": null,
      "grid_template_areas": null,
      "grid_template_columns": null,
      "grid_template_rows": null,
      "height": null,
      "justify_content": null,
      "justify_items": null,
      "left": null,
      "margin": null,
      "max_height": null,
      "max_width": null,
      "min_height": null,
      "min_width": null,
      "object_fit": null,
      "object_position": null,
      "order": null,
      "overflow": null,
      "overflow_x": null,
      "overflow_y": null,
      "padding": null,
      "right": null,
      "top": null,
      "visibility": null,
      "width": null
     }
    },
    "562721c9f7414b35bb4866ee3b9a4072": {
     "model_module": "@jupyter-widgets/controls",
     "model_module_version": "1.5.0",
     "model_name": "FloatProgressModel",
     "state": {
      "_dom_classes": [],
      "_model_module": "@jupyter-widgets/controls",
      "_model_module_version": "1.5.0",
      "_model_name": "FloatProgressModel",
      "_view_count": null,
      "_view_module": "@jupyter-widgets/controls",
      "_view_module_version": "1.5.0",
      "_view_name": "ProgressView",
      "bar_style": "",
      "description": "",
      "description_tooltip": null,
      "layout": "IPY_MODEL_63bef304fbb44e89be11b0d1b9948514",
      "max": 214,
      "min": 0,
      "orientation": "horizontal",
      "style": "IPY_MODEL_4280ed567b7e42999b90a2453970c7f4",
      "value": 214
     }
    },
    "5c6799d454d84e1a89d9df71c5e7d820": {
     "model_module": "@jupyter-widgets/controls",
     "model_module_version": "1.5.0",
     "model_name": "DescriptionStyleModel",
     "state": {
      "_model_module": "@jupyter-widgets/controls",
      "_model_module_version": "1.5.0",
      "_model_name": "DescriptionStyleModel",
      "_view_count": null,
      "_view_module": "@jupyter-widgets/base",
      "_view_module_version": "1.2.0",
      "_view_name": "StyleView",
      "description_width": ""
     }
    },
    "5ea74dfaee0b42ee9e2b4928adaae9be": {
     "model_module": "@jupyter-widgets/controls",
     "model_module_version": "1.5.0",
     "model_name": "DescriptionStyleModel",
     "state": {
      "_model_module": "@jupyter-widgets/controls",
      "_model_module_version": "1.5.0",
      "_model_name": "DescriptionStyleModel",
      "_view_count": null,
      "_view_module": "@jupyter-widgets/base",
      "_view_module_version": "1.2.0",
      "_view_name": "StyleView",
      "description_width": ""
     }
    },
    "622f6ca31ebe46f9b27baabdb0a56095": {
     "model_module": "@jupyter-widgets/base",
     "model_module_version": "1.2.0",
     "model_name": "LayoutModel",
     "state": {
      "_model_module": "@jupyter-widgets/base",
      "_model_module_version": "1.2.0",
      "_model_name": "LayoutModel",
      "_view_count": null,
      "_view_module": "@jupyter-widgets/base",
      "_view_module_version": "1.2.0",
      "_view_name": "LayoutView",
      "align_content": null,
      "align_items": null,
      "align_self": null,
      "border": null,
      "bottom": null,
      "display": null,
      "flex": null,
      "flex_flow": null,
      "grid_area": null,
      "grid_auto_columns": null,
      "grid_auto_flow": null,
      "grid_auto_rows": null,
      "grid_column": null,
      "grid_gap": null,
      "grid_row": null,
      "grid_template_areas": null,
      "grid_template_columns": null,
      "grid_template_rows": null,
      "height": null,
      "justify_content": null,
      "justify_items": null,
      "left": null,
      "margin": null,
      "max_height": null,
      "max_width": null,
      "min_height": null,
      "min_width": null,
      "object_fit": null,
      "object_position": null,
      "order": null,
      "overflow": null,
      "overflow_x": null,
      "overflow_y": null,
      "padding": null,
      "right": null,
      "top": null,
      "visibility": null,
      "width": null
     }
    },
    "636516e1e02243a996d8117bc064cf98": {
     "model_module": "@jupyter-widgets/base",
     "model_module_version": "1.2.0",
     "model_name": "LayoutModel",
     "state": {
      "_model_module": "@jupyter-widgets/base",
      "_model_module_version": "1.2.0",
      "_model_name": "LayoutModel",
      "_view_count": null,
      "_view_module": "@jupyter-widgets/base",
      "_view_module_version": "1.2.0",
      "_view_name": "LayoutView",
      "align_content": null,
      "align_items": null,
      "align_self": null,
      "border": null,
      "bottom": null,
      "display": null,
      "flex": null,
      "flex_flow": null,
      "grid_area": null,
      "grid_auto_columns": null,
      "grid_auto_flow": null,
      "grid_auto_rows": null,
      "grid_column": null,
      "grid_gap": null,
      "grid_row": null,
      "grid_template_areas": null,
      "grid_template_columns": null,
      "grid_template_rows": null,
      "height": null,
      "justify_content": null,
      "justify_items": null,
      "left": null,
      "margin": null,
      "max_height": null,
      "max_width": null,
      "min_height": null,
      "min_width": null,
      "object_fit": null,
      "object_position": null,
      "order": null,
      "overflow": null,
      "overflow_x": null,
      "overflow_y": null,
      "padding": null,
      "right": null,
      "top": null,
      "visibility": null,
      "width": null
     }
    },
    "63bef304fbb44e89be11b0d1b9948514": {
     "model_module": "@jupyter-widgets/base",
     "model_module_version": "1.2.0",
     "model_name": "LayoutModel",
     "state": {
      "_model_module": "@jupyter-widgets/base",
      "_model_module_version": "1.2.0",
      "_model_name": "LayoutModel",
      "_view_count": null,
      "_view_module": "@jupyter-widgets/base",
      "_view_module_version": "1.2.0",
      "_view_name": "LayoutView",
      "align_content": null,
      "align_items": null,
      "align_self": null,
      "border": null,
      "bottom": null,
      "display": null,
      "flex": null,
      "flex_flow": null,
      "grid_area": null,
      "grid_auto_columns": null,
      "grid_auto_flow": null,
      "grid_auto_rows": null,
      "grid_column": null,
      "grid_gap": null,
      "grid_row": null,
      "grid_template_areas": null,
      "grid_template_columns": null,
      "grid_template_rows": null,
      "height": null,
      "justify_content": null,
      "justify_items": null,
      "left": null,
      "margin": null,
      "max_height": null,
      "max_width": null,
      "min_height": null,
      "min_width": null,
      "object_fit": null,
      "object_position": null,
      "order": null,
      "overflow": null,
      "overflow_x": null,
      "overflow_y": null,
      "padding": null,
      "right": null,
      "top": null,
      "visibility": null,
      "width": null
     }
    },
    "65110cd603d041609940cf699e0e1c6b": {
     "model_module": "@jupyter-widgets/controls",
     "model_module_version": "1.5.0",
     "model_name": "HTMLModel",
     "state": {
      "_dom_classes": [],
      "_model_module": "@jupyter-widgets/controls",
      "_model_module_version": "1.5.0",
      "_model_name": "HTMLModel",
      "_view_count": null,
      "_view_module": "@jupyter-widgets/controls",
      "_view_module_version": "1.5.0",
      "_view_name": "HTMLView",
      "description": "",
      "description_tooltip": null,
      "layout": "IPY_MODEL_133516434c6345e5a8e27586364293c3",
      "placeholder": "​",
      "style": "IPY_MODEL_5ea74dfaee0b42ee9e2b4928adaae9be",
      "value": " 214/214 [03:27&lt;00:00,  1.10it/s]"
     }
    },
    "68fcf1f5f1ae4ec1adc22b5310091ab4": {
     "model_module": "@jupyter-widgets/controls",
     "model_module_version": "1.5.0",
     "model_name": "DescriptionStyleModel",
     "state": {
      "_model_module": "@jupyter-widgets/controls",
      "_model_module_version": "1.5.0",
      "_model_name": "DescriptionStyleModel",
      "_view_count": null,
      "_view_module": "@jupyter-widgets/base",
      "_view_module_version": "1.2.0",
      "_view_name": "StyleView",
      "description_width": ""
     }
    },
    "7495f9237a0946cbbc81d7f3db4f8d10": {
     "model_module": "@jupyter-widgets/base",
     "model_module_version": "1.2.0",
     "model_name": "LayoutModel",
     "state": {
      "_model_module": "@jupyter-widgets/base",
      "_model_module_version": "1.2.0",
      "_model_name": "LayoutModel",
      "_view_count": null,
      "_view_module": "@jupyter-widgets/base",
      "_view_module_version": "1.2.0",
      "_view_name": "LayoutView",
      "align_content": null,
      "align_items": null,
      "align_self": null,
      "border": null,
      "bottom": null,
      "display": null,
      "flex": null,
      "flex_flow": null,
      "grid_area": null,
      "grid_auto_columns": null,
      "grid_auto_flow": null,
      "grid_auto_rows": null,
      "grid_column": null,
      "grid_gap": null,
      "grid_row": null,
      "grid_template_areas": null,
      "grid_template_columns": null,
      "grid_template_rows": null,
      "height": null,
      "justify_content": null,
      "justify_items": null,
      "left": null,
      "margin": null,
      "max_height": null,
      "max_width": null,
      "min_height": null,
      "min_width": null,
      "object_fit": null,
      "object_position": null,
      "order": null,
      "overflow": null,
      "overflow_x": null,
      "overflow_y": null,
      "padding": null,
      "right": null,
      "top": null,
      "visibility": null,
      "width": null
     }
    },
    "87891969d374403bbabde9e2265f71cd": {
     "model_module": "@jupyter-widgets/controls",
     "model_module_version": "1.5.0",
     "model_name": "DescriptionStyleModel",
     "state": {
      "_model_module": "@jupyter-widgets/controls",
      "_model_module_version": "1.5.0",
      "_model_name": "DescriptionStyleModel",
      "_view_count": null,
      "_view_module": "@jupyter-widgets/base",
      "_view_module_version": "1.2.0",
      "_view_name": "StyleView",
      "description_width": ""
     }
    },
    "953fa7a4edcb4d969ea874a495a2a43d": {
     "model_module": "@jupyter-widgets/base",
     "model_module_version": "1.2.0",
     "model_name": "LayoutModel",
     "state": {
      "_model_module": "@jupyter-widgets/base",
      "_model_module_version": "1.2.0",
      "_model_name": "LayoutModel",
      "_view_count": null,
      "_view_module": "@jupyter-widgets/base",
      "_view_module_version": "1.2.0",
      "_view_name": "LayoutView",
      "align_content": null,
      "align_items": null,
      "align_self": null,
      "border": null,
      "bottom": null,
      "display": null,
      "flex": null,
      "flex_flow": null,
      "grid_area": null,
      "grid_auto_columns": null,
      "grid_auto_flow": null,
      "grid_auto_rows": null,
      "grid_column": null,
      "grid_gap": null,
      "grid_row": null,
      "grid_template_areas": null,
      "grid_template_columns": null,
      "grid_template_rows": null,
      "height": null,
      "justify_content": null,
      "justify_items": null,
      "left": null,
      "margin": null,
      "max_height": null,
      "max_width": null,
      "min_height": null,
      "min_width": null,
      "object_fit": null,
      "object_position": null,
      "order": null,
      "overflow": null,
      "overflow_x": null,
      "overflow_y": null,
      "padding": null,
      "right": null,
      "top": null,
      "visibility": null,
      "width": null
     }
    },
    "b13047c024524a0888446c2dd4f38d89": {
     "model_module": "@jupyter-widgets/controls",
     "model_module_version": "1.5.0",
     "model_name": "HTMLModel",
     "state": {
      "_dom_classes": [],
      "_model_module": "@jupyter-widgets/controls",
      "_model_module_version": "1.5.0",
      "_model_name": "HTMLModel",
      "_view_count": null,
      "_view_module": "@jupyter-widgets/controls",
      "_view_module_version": "1.5.0",
      "_view_name": "HTMLView",
      "description": "",
      "description_tooltip": null,
      "layout": "IPY_MODEL_622f6ca31ebe46f9b27baabdb0a56095",
      "placeholder": "​",
      "style": "IPY_MODEL_5c6799d454d84e1a89d9df71c5e7d820",
      "value": "Training: 100%"
     }
    },
    "b4663cda63ee40c590651f1bdfba2e28": {
     "model_module": "@jupyter-widgets/base",
     "model_module_version": "1.2.0",
     "model_name": "LayoutModel",
     "state": {
      "_model_module": "@jupyter-widgets/base",
      "_model_module_version": "1.2.0",
      "_model_name": "LayoutModel",
      "_view_count": null,
      "_view_module": "@jupyter-widgets/base",
      "_view_module_version": "1.2.0",
      "_view_name": "LayoutView",
      "align_content": null,
      "align_items": null,
      "align_self": null,
      "border": null,
      "bottom": null,
      "display": null,
      "flex": null,
      "flex_flow": null,
      "grid_area": null,
      "grid_auto_columns": null,
      "grid_auto_flow": null,
      "grid_auto_rows": null,
      "grid_column": null,
      "grid_gap": null,
      "grid_row": null,
      "grid_template_areas": null,
      "grid_template_columns": null,
      "grid_template_rows": null,
      "height": null,
      "justify_content": null,
      "justify_items": null,
      "left": null,
      "margin": null,
      "max_height": null,
      "max_width": null,
      "min_height": null,
      "min_width": null,
      "object_fit": null,
      "object_position": null,
      "order": null,
      "overflow": null,
      "overflow_x": null,
      "overflow_y": null,
      "padding": null,
      "right": null,
      "top": null,
      "visibility": null,
      "width": null
     }
    },
    "bbda3fa96a054eecb6186392a6d9e0dc": {
     "model_module": "@jupyter-widgets/controls",
     "model_module_version": "1.5.0",
     "model_name": "ProgressStyleModel",
     "state": {
      "_model_module": "@jupyter-widgets/controls",
      "_model_module_version": "1.5.0",
      "_model_name": "ProgressStyleModel",
      "_view_count": null,
      "_view_module": "@jupyter-widgets/base",
      "_view_module_version": "1.2.0",
      "_view_name": "StyleView",
      "bar_color": null,
      "description_width": ""
     }
    },
    "c895f88291f842c58f073d44ec7620aa": {
     "model_module": "@jupyter-widgets/controls",
     "model_module_version": "1.5.0",
     "model_name": "HTMLModel",
     "state": {
      "_dom_classes": [],
      "_model_module": "@jupyter-widgets/controls",
      "_model_module_version": "1.5.0",
      "_model_name": "HTMLModel",
      "_view_count": null,
      "_view_module": "@jupyter-widgets/controls",
      "_view_module_version": "1.5.0",
      "_view_name": "HTMLView",
      "description": "",
      "description_tooltip": null,
      "layout": "IPY_MODEL_243e3146a0ae4560b69571c0fa13d168",
      "placeholder": "​",
      "style": "IPY_MODEL_68fcf1f5f1ae4ec1adc22b5310091ab4",
      "value": " 24/24 [00:06&lt;00:00,  4.14it/s]"
     }
    },
    "dbab8e31b68d40caa965a7ce72f020d8": {
     "model_module": "@jupyter-widgets/controls",
     "model_module_version": "1.5.0",
     "model_name": "HBoxModel",
     "state": {
      "_dom_classes": [],
      "_model_module": "@jupyter-widgets/controls",
      "_model_module_version": "1.5.0",
      "_model_name": "HBoxModel",
      "_view_count": null,
      "_view_module": "@jupyter-widgets/controls",
      "_view_module_version": "1.5.0",
      "_view_name": "HBoxView",
      "box_style": "",
      "children": [
       "IPY_MODEL_f533de3cbbc3433b89937b4e6e502396",
       "IPY_MODEL_1160b799098f4724b3fa6a61225c463f",
       "IPY_MODEL_f8f44750d5d64ca0b8a8eda6a524b8bc"
      ],
      "layout": "IPY_MODEL_0416109518094b57b48695a56e386057"
     }
    },
    "dc41ed936af0402f86cd5a62d5e72718": {
     "model_module": "@jupyter-widgets/controls",
     "model_module_version": "1.5.0",
     "model_name": "DescriptionStyleModel",
     "state": {
      "_model_module": "@jupyter-widgets/controls",
      "_model_module_version": "1.5.0",
      "_model_name": "DescriptionStyleModel",
      "_view_count": null,
      "_view_module": "@jupyter-widgets/base",
      "_view_module_version": "1.2.0",
      "_view_name": "StyleView",
      "description_width": ""
     }
    },
    "e52f2fddc1f54a2cbf6900743cf39338": {
     "model_module": "@jupyter-widgets/controls",
     "model_module_version": "1.5.0",
     "model_name": "ProgressStyleModel",
     "state": {
      "_model_module": "@jupyter-widgets/controls",
      "_model_module_version": "1.5.0",
      "_model_name": "ProgressStyleModel",
      "_view_count": null,
      "_view_module": "@jupyter-widgets/base",
      "_view_module_version": "1.2.0",
      "_view_name": "StyleView",
      "bar_color": null,
      "description_width": ""
     }
    },
    "eab0d261582541709ecfa030bcc67913": {
     "model_module": "@jupyter-widgets/controls",
     "model_module_version": "1.5.0",
     "model_name": "HTMLModel",
     "state": {
      "_dom_classes": [],
      "_model_module": "@jupyter-widgets/controls",
      "_model_module_version": "1.5.0",
      "_model_name": "HTMLModel",
      "_view_count": null,
      "_view_module": "@jupyter-widgets/controls",
      "_view_module_version": "1.5.0",
      "_view_name": "HTMLView",
      "description": "",
      "description_tooltip": null,
      "layout": "IPY_MODEL_4a50e56e867b49518e85c2eebff9542c",
      "placeholder": "​",
      "style": "IPY_MODEL_dc41ed936af0402f86cd5a62d5e72718",
      "value": "Evaluating: 100%"
     }
    },
    "f533de3cbbc3433b89937b4e6e502396": {
     "model_module": "@jupyter-widgets/controls",
     "model_module_version": "1.5.0",
     "model_name": "HTMLModel",
     "state": {
      "_dom_classes": [],
      "_model_module": "@jupyter-widgets/controls",
      "_model_module_version": "1.5.0",
      "_model_name": "HTMLModel",
      "_view_count": null,
      "_view_module": "@jupyter-widgets/controls",
      "_view_module_version": "1.5.0",
      "_view_name": "HTMLView",
      "description": "",
      "description_tooltip": null,
      "layout": "IPY_MODEL_45f2b2c069164cddbd81358be84b500b",
      "placeholder": "​",
      "style": "IPY_MODEL_87891969d374403bbabde9e2265f71cd",
      "value": "Evaluating: 100%"
     }
    },
    "f8aa73685be04007beeb422fb820c45c": {
     "model_module": "@jupyter-widgets/controls",
     "model_module_version": "1.5.0",
     "model_name": "DescriptionStyleModel",
     "state": {
      "_model_module": "@jupyter-widgets/controls",
      "_model_module_version": "1.5.0",
      "_model_name": "DescriptionStyleModel",
      "_view_count": null,
      "_view_module": "@jupyter-widgets/base",
      "_view_module_version": "1.2.0",
      "_view_name": "StyleView",
      "description_width": ""
     }
    },
    "f8f44750d5d64ca0b8a8eda6a524b8bc": {
     "model_module": "@jupyter-widgets/controls",
     "model_module_version": "1.5.0",
     "model_name": "HTMLModel",
     "state": {
      "_dom_classes": [],
      "_model_module": "@jupyter-widgets/controls",
      "_model_module_version": "1.5.0",
      "_model_name": "HTMLModel",
      "_view_count": null,
      "_view_module": "@jupyter-widgets/controls",
      "_view_module_version": "1.5.0",
      "_view_name": "HTMLView",
      "description": "",
      "description_tooltip": null,
      "layout": "IPY_MODEL_451455e685504265ae2f2ce1615db865",
      "placeholder": "​",
      "style": "IPY_MODEL_f8aa73685be04007beeb422fb820c45c",
      "value": " 60/60 [00:15&lt;00:00,  4.72it/s]"
     }
    },
    "fd5d110b788f4fd3b42784d2deb92b08": {
     "model_module": "@jupyter-widgets/controls",
     "model_module_version": "1.5.0",
     "model_name": "HBoxModel",
     "state": {
      "_dom_classes": [],
      "_model_module": "@jupyter-widgets/controls",
      "_model_module_version": "1.5.0",
      "_model_name": "HBoxModel",
      "_view_count": null,
      "_view_module": "@jupyter-widgets/controls",
      "_view_module_version": "1.5.0",
      "_view_name": "HBoxView",
      "box_style": "",
      "children": [
       "IPY_MODEL_b13047c024524a0888446c2dd4f38d89",
       "IPY_MODEL_562721c9f7414b35bb4866ee3b9a4072",
       "IPY_MODEL_65110cd603d041609940cf699e0e1c6b"
      ],
      "layout": "IPY_MODEL_636516e1e02243a996d8117bc064cf98"
     }
    }
   }
  }
 },
 "nbformat": 4,
 "nbformat_minor": 4
}
